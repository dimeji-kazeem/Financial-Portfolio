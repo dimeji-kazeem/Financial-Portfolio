{
 "cells": [
  {
   "cell_type": "code",
   "execution_count": 13,
   "id": "68ef3e39",
   "metadata": {},
   "outputs": [],
   "source": [
    "from geopy.geocoders import Nominatim"
   ]
  },
  {
   "cell_type": "code",
   "execution_count": 8,
   "id": "5fed942a",
   "metadata": {},
   "outputs": [],
   "source": [
    "import pandas as pd\n",
    "import numpy as np"
   ]
  },
  {
   "cell_type": "code",
   "execution_count": 11,
   "id": "1ad61613",
   "metadata": {},
   "outputs": [],
   "source": [
    "countries = pd.read_csv('country_list.csv')"
   ]
  },
  {
   "cell_type": "code",
   "execution_count": 12,
   "id": "04be044f",
   "metadata": {},
   "outputs": [
    {
     "data": {
      "text/html": [
       "<div>\n",
       "<style scoped>\n",
       "    .dataframe tbody tr th:only-of-type {\n",
       "        vertical-align: middle;\n",
       "    }\n",
       "\n",
       "    .dataframe tbody tr th {\n",
       "        vertical-align: top;\n",
       "    }\n",
       "\n",
       "    .dataframe thead th {\n",
       "        text-align: right;\n",
       "    }\n",
       "</style>\n",
       "<table border=\"1\" class=\"dataframe\">\n",
       "  <thead>\n",
       "    <tr style=\"text-align: right;\">\n",
       "      <th></th>\n",
       "      <th>Country Name</th>\n",
       "      <th>Country Code</th>\n",
       "    </tr>\n",
       "  </thead>\n",
       "  <tbody>\n",
       "    <tr>\n",
       "      <th>0</th>\n",
       "      <td>Afghanistan</td>\n",
       "      <td>AFG</td>\n",
       "    </tr>\n",
       "    <tr>\n",
       "      <th>1</th>\n",
       "      <td>Angola</td>\n",
       "      <td>AGO</td>\n",
       "    </tr>\n",
       "    <tr>\n",
       "      <th>2</th>\n",
       "      <td>Albania</td>\n",
       "      <td>ALB</td>\n",
       "    </tr>\n",
       "    <tr>\n",
       "      <th>3</th>\n",
       "      <td>United Arab Emirates</td>\n",
       "      <td>ARE</td>\n",
       "    </tr>\n",
       "    <tr>\n",
       "      <th>4</th>\n",
       "      <td>Argentina</td>\n",
       "      <td>ARG</td>\n",
       "    </tr>\n",
       "  </tbody>\n",
       "</table>\n",
       "</div>"
      ],
      "text/plain": [
       "           Country Name Country Code\n",
       "0           Afghanistan          AFG\n",
       "1                Angola          AGO\n",
       "2               Albania          ALB\n",
       "3  United Arab Emirates          ARE\n",
       "4             Argentina          ARG"
      ]
     },
     "execution_count": 12,
     "metadata": {},
     "output_type": "execute_result"
    }
   ],
   "source": [
    "countries.head()"
   ]
  },
  {
   "cell_type": "code",
   "execution_count": 30,
   "id": "ab6fb73a",
   "metadata": {},
   "outputs": [],
   "source": [
    "def get_continent(country_name):\n",
    "    geolocator = Nominatim(user_agent=\"myGeocoder\")\n",
    "    location = geolocator.geocode(country_name, exactly_one=True)\n",
    "    return location.address.split(\",\")[-1].strip()"
   ]
  },
  {
   "cell_type": "code",
   "execution_count": 31,
   "id": "2665eea6",
   "metadata": {},
   "outputs": [],
   "source": [
    "# Example DataFrame with \"Country Name\" and \"Country Code\" columns\n",
    "data = {\n",
    "    \"Country Name\": [\"United States\", \"Canada\", \"Germany\", \"France\"],\n",
    "    \"Country Code\": [\"USA\", \"CAN\", \"DEU\", \"FRA\"]\n",
    "}"
   ]
  },
  {
   "cell_type": "code",
   "execution_count": 32,
   "id": "99cbe77d",
   "metadata": {},
   "outputs": [
    {
     "data": {
      "text/html": [
       "<div>\n",
       "<style scoped>\n",
       "    .dataframe tbody tr th:only-of-type {\n",
       "        vertical-align: middle;\n",
       "    }\n",
       "\n",
       "    .dataframe tbody tr th {\n",
       "        vertical-align: top;\n",
       "    }\n",
       "\n",
       "    .dataframe thead th {\n",
       "        text-align: right;\n",
       "    }\n",
       "</style>\n",
       "<table border=\"1\" class=\"dataframe\">\n",
       "  <thead>\n",
       "    <tr style=\"text-align: right;\">\n",
       "      <th></th>\n",
       "      <th>Country Name</th>\n",
       "      <th>Country Code</th>\n",
       "      <th>Continent</th>\n",
       "    </tr>\n",
       "  </thead>\n",
       "  <tbody>\n",
       "    <tr>\n",
       "      <th>0</th>\n",
       "      <td>United States</td>\n",
       "      <td>USA</td>\n",
       "      <td>United States</td>\n",
       "    </tr>\n",
       "    <tr>\n",
       "      <th>1</th>\n",
       "      <td>Canada</td>\n",
       "      <td>CAN</td>\n",
       "      <td>Canada</td>\n",
       "    </tr>\n",
       "    <tr>\n",
       "      <th>2</th>\n",
       "      <td>Germany</td>\n",
       "      <td>DEU</td>\n",
       "      <td>Deutschland</td>\n",
       "    </tr>\n",
       "    <tr>\n",
       "      <th>3</th>\n",
       "      <td>France</td>\n",
       "      <td>FRA</td>\n",
       "      <td>France</td>\n",
       "    </tr>\n",
       "  </tbody>\n",
       "</table>\n",
       "</div>"
      ],
      "text/plain": [
       "    Country Name Country Code      Continent\n",
       "0  United States          USA  United States\n",
       "1         Canada          CAN         Canada\n",
       "2        Germany          DEU    Deutschland\n",
       "3         France          FRA         France"
      ]
     },
     "execution_count": 32,
     "metadata": {},
     "output_type": "execute_result"
    }
   ],
   "source": [
    "countries = pd.DataFrame(data)\n",
    "\n",
    "# Add a new column to store the continents\n",
    "countries[\"Continent\"] = countries[\"Country Name\"].apply(get_continent)\n",
    "\n",
    "countries.head()"
   ]
  },
  {
   "cell_type": "markdown",
   "id": "b23dffb1",
   "metadata": {},
   "source": [
    "### Infaltion Figures"
   ]
  },
  {
   "cell_type": "code",
   "execution_count": 33,
   "id": "2549f482",
   "metadata": {},
   "outputs": [],
   "source": [
    "def get_inflation_data(country_codes, start_year, end_year):\n",
    "    indicators = {\"FP.CPI.TOTL.ZG\": \"Inflation, consumer prices (annual %)\"}\n",
    "    \n",
    "    data_dates = datetime.datetime(start_year, 1, 1), datetime.datetime(end_year, 1, 1)\n",
    "    \n",
    "    inflation_data = wbdata.get_dataframe(indicators, country=country_codes, data_date=data_dates)\n",
    "    return inflation_data.reset_index()\n",
    "\n",
    "def main():\n",
    "    # Specify the country codes you want to retrieve inflation data for\n",
    "    country_codes = [\"USA\", \"CAN\", \"DEU\", \"FRA\"]\n",
    "\n",
    "    # Specify the time range\n",
    "    start_year = 2010\n",
    "    end_year = 2020\n",
    "\n",
    "    # Get inflation data\n",
    "    inflation_data = get_inflation_data(country_codes, start_year, end_year)\n",
    "\n",
    "    # Rename columns for consistency\n",
    "    inflation_data.rename(columns={\"country\": \"Country Code\", \"countryiso3code\": \"Country Name\", \"date\": \"Year\", \"FP.CPI.TOTL.ZG\": \"Inflation_value\"}, inplace=True)\n",
    "\n",
    "    # Save the data to a CSV file\n",
    "    inflation_data.to_csv(\"inflation.csv\", index=False)\n",
    "\n",
    "if __name__ == \"__main__\":\n",
    "    main()"
   ]
  },
  {
   "cell_type": "code",
   "execution_count": 45,
   "id": "476f99b1",
   "metadata": {},
   "outputs": [
    {
     "ename": "KeyError",
     "evalue": "'country'",
     "output_type": "error",
     "traceback": [
      "\u001b[1;31m---------------------------------------------------------------------------\u001b[0m",
      "\u001b[1;31mKeyError\u001b[0m                                  Traceback (most recent call last)",
      "\u001b[1;32m~\\AppData\\Local\\Temp\\ipykernel_11012\\3913195415.py\u001b[0m in \u001b[0;36m<module>\u001b[1;34m\u001b[0m\n\u001b[0;32m     48\u001b[0m \u001b[1;33m\u001b[0m\u001b[0m\n\u001b[0;32m     49\u001b[0m \u001b[1;32mif\u001b[0m \u001b[0m__name__\u001b[0m \u001b[1;33m==\u001b[0m \u001b[1;34m\"__main__\"\u001b[0m\u001b[1;33m:\u001b[0m\u001b[1;33m\u001b[0m\u001b[1;33m\u001b[0m\u001b[0m\n\u001b[1;32m---> 50\u001b[1;33m     \u001b[0mmain\u001b[0m\u001b[1;33m(\u001b[0m\u001b[1;33m)\u001b[0m\u001b[1;33m\u001b[0m\u001b[1;33m\u001b[0m\u001b[0m\n\u001b[0m",
      "\u001b[1;32m~\\AppData\\Local\\Temp\\ipykernel_11012\\3913195415.py\u001b[0m in \u001b[0;36mmain\u001b[1;34m()\u001b[0m\n\u001b[0;32m     38\u001b[0m \u001b[1;33m\u001b[0m\u001b[0m\n\u001b[0;32m     39\u001b[0m     \u001b[1;31m# Merge with the original DataFrame using the correct column names\u001b[0m\u001b[1;33m\u001b[0m\u001b[1;33m\u001b[0m\u001b[0m\n\u001b[1;32m---> 40\u001b[1;33m     \u001b[0mresult_df\u001b[0m \u001b[1;33m=\u001b[0m \u001b[0mpd\u001b[0m\u001b[1;33m.\u001b[0m\u001b[0mmerge\u001b[0m\u001b[1;33m(\u001b[0m\u001b[0mcountries\u001b[0m\u001b[1;33m,\u001b[0m \u001b[0minflation_data_df\u001b[0m\u001b[1;33m,\u001b[0m \u001b[0mleft_on\u001b[0m\u001b[1;33m=\u001b[0m\u001b[1;33m[\u001b[0m\u001b[1;34m\"Country Code\"\u001b[0m\u001b[1;33m]\u001b[0m\u001b[1;33m,\u001b[0m \u001b[0mright_on\u001b[0m\u001b[1;33m=\u001b[0m\u001b[1;33m[\u001b[0m\u001b[1;34m\"country\"\u001b[0m\u001b[1;33m]\u001b[0m\u001b[1;33m,\u001b[0m \u001b[0mhow\u001b[0m\u001b[1;33m=\u001b[0m\u001b[1;34m\"left\"\u001b[0m\u001b[1;33m)\u001b[0m\u001b[1;33m\u001b[0m\u001b[1;33m\u001b[0m\u001b[0m\n\u001b[0m\u001b[0;32m     41\u001b[0m \u001b[1;33m\u001b[0m\u001b[0m\n\u001b[0;32m     42\u001b[0m     \u001b[1;31m# Drop unnecessary columns and rename\u001b[0m\u001b[1;33m\u001b[0m\u001b[1;33m\u001b[0m\u001b[0m\n",
      "\u001b[1;32m~\\anaconda3\\lib\\site-packages\\pandas\\core\\reshape\\merge.py\u001b[0m in \u001b[0;36mmerge\u001b[1;34m(left, right, how, on, left_on, right_on, left_index, right_index, sort, suffixes, copy, indicator, validate)\u001b[0m\n\u001b[0;32m    105\u001b[0m     \u001b[0mvalidate\u001b[0m\u001b[1;33m:\u001b[0m \u001b[0mstr\u001b[0m \u001b[1;33m|\u001b[0m \u001b[1;32mNone\u001b[0m \u001b[1;33m=\u001b[0m \u001b[1;32mNone\u001b[0m\u001b[1;33m,\u001b[0m\u001b[1;33m\u001b[0m\u001b[1;33m\u001b[0m\u001b[0m\n\u001b[0;32m    106\u001b[0m ) -> DataFrame:\n\u001b[1;32m--> 107\u001b[1;33m     op = _MergeOperation(\n\u001b[0m\u001b[0;32m    108\u001b[0m         \u001b[0mleft\u001b[0m\u001b[1;33m,\u001b[0m\u001b[1;33m\u001b[0m\u001b[1;33m\u001b[0m\u001b[0m\n\u001b[0;32m    109\u001b[0m         \u001b[0mright\u001b[0m\u001b[1;33m,\u001b[0m\u001b[1;33m\u001b[0m\u001b[1;33m\u001b[0m\u001b[0m\n",
      "\u001b[1;32m~\\anaconda3\\lib\\site-packages\\pandas\\core\\reshape\\merge.py\u001b[0m in \u001b[0;36m__init__\u001b[1;34m(self, left, right, how, on, left_on, right_on, axis, left_index, right_index, sort, suffixes, copy, indicator, validate)\u001b[0m\n\u001b[0;32m    698\u001b[0m             \u001b[0mself\u001b[0m\u001b[1;33m.\u001b[0m\u001b[0mright_join_keys\u001b[0m\u001b[1;33m,\u001b[0m\u001b[1;33m\u001b[0m\u001b[1;33m\u001b[0m\u001b[0m\n\u001b[0;32m    699\u001b[0m             \u001b[0mself\u001b[0m\u001b[1;33m.\u001b[0m\u001b[0mjoin_names\u001b[0m\u001b[1;33m,\u001b[0m\u001b[1;33m\u001b[0m\u001b[1;33m\u001b[0m\u001b[0m\n\u001b[1;32m--> 700\u001b[1;33m         ) = self._get_merge_keys()\n\u001b[0m\u001b[0;32m    701\u001b[0m \u001b[1;33m\u001b[0m\u001b[0m\n\u001b[0;32m    702\u001b[0m         \u001b[1;31m# validate the merge keys dtypes. We may need to coerce\u001b[0m\u001b[1;33m\u001b[0m\u001b[1;33m\u001b[0m\u001b[0m\n",
      "\u001b[1;32m~\\anaconda3\\lib\\site-packages\\pandas\\core\\reshape\\merge.py\u001b[0m in \u001b[0;36m_get_merge_keys\u001b[1;34m(self)\u001b[0m\n\u001b[0;32m   1095\u001b[0m                     \u001b[1;32mif\u001b[0m \u001b[1;32mnot\u001b[0m \u001b[0mis_rkey\u001b[0m\u001b[1;33m(\u001b[0m\u001b[0mrk\u001b[0m\u001b[1;33m)\u001b[0m\u001b[1;33m:\u001b[0m\u001b[1;33m\u001b[0m\u001b[1;33m\u001b[0m\u001b[0m\n\u001b[0;32m   1096\u001b[0m                         \u001b[1;32mif\u001b[0m \u001b[0mrk\u001b[0m \u001b[1;32mis\u001b[0m \u001b[1;32mnot\u001b[0m \u001b[1;32mNone\u001b[0m\u001b[1;33m:\u001b[0m\u001b[1;33m\u001b[0m\u001b[1;33m\u001b[0m\u001b[0m\n\u001b[1;32m-> 1097\u001b[1;33m                             \u001b[0mright_keys\u001b[0m\u001b[1;33m.\u001b[0m\u001b[0mappend\u001b[0m\u001b[1;33m(\u001b[0m\u001b[0mright\u001b[0m\u001b[1;33m.\u001b[0m\u001b[0m_get_label_or_level_values\u001b[0m\u001b[1;33m(\u001b[0m\u001b[0mrk\u001b[0m\u001b[1;33m)\u001b[0m\u001b[1;33m)\u001b[0m\u001b[1;33m\u001b[0m\u001b[1;33m\u001b[0m\u001b[0m\n\u001b[0m\u001b[0;32m   1098\u001b[0m                         \u001b[1;32melse\u001b[0m\u001b[1;33m:\u001b[0m\u001b[1;33m\u001b[0m\u001b[1;33m\u001b[0m\u001b[0m\n\u001b[0;32m   1099\u001b[0m                             \u001b[1;31m# work-around for merge_asof(right_index=True)\u001b[0m\u001b[1;33m\u001b[0m\u001b[1;33m\u001b[0m\u001b[0m\n",
      "\u001b[1;32m~\\anaconda3\\lib\\site-packages\\pandas\\core\\generic.py\u001b[0m in \u001b[0;36m_get_label_or_level_values\u001b[1;34m(self, key, axis)\u001b[0m\n\u001b[0;32m   1838\u001b[0m             \u001b[0mvalues\u001b[0m \u001b[1;33m=\u001b[0m \u001b[0mself\u001b[0m\u001b[1;33m.\u001b[0m\u001b[0maxes\u001b[0m\u001b[1;33m[\u001b[0m\u001b[0maxis\u001b[0m\u001b[1;33m]\u001b[0m\u001b[1;33m.\u001b[0m\u001b[0mget_level_values\u001b[0m\u001b[1;33m(\u001b[0m\u001b[0mkey\u001b[0m\u001b[1;33m)\u001b[0m\u001b[1;33m.\u001b[0m\u001b[0m_values\u001b[0m\u001b[1;33m\u001b[0m\u001b[1;33m\u001b[0m\u001b[0m\n\u001b[0;32m   1839\u001b[0m         \u001b[1;32melse\u001b[0m\u001b[1;33m:\u001b[0m\u001b[1;33m\u001b[0m\u001b[1;33m\u001b[0m\u001b[0m\n\u001b[1;32m-> 1840\u001b[1;33m             \u001b[1;32mraise\u001b[0m \u001b[0mKeyError\u001b[0m\u001b[1;33m(\u001b[0m\u001b[0mkey\u001b[0m\u001b[1;33m)\u001b[0m\u001b[1;33m\u001b[0m\u001b[1;33m\u001b[0m\u001b[0m\n\u001b[0m\u001b[0;32m   1841\u001b[0m \u001b[1;33m\u001b[0m\u001b[0m\n\u001b[0;32m   1842\u001b[0m         \u001b[1;31m# Check for duplicates\u001b[0m\u001b[1;33m\u001b[0m\u001b[1;33m\u001b[0m\u001b[0m\n",
      "\u001b[1;31mKeyError\u001b[0m: 'country'"
     ]
    }
   ],
   "source": [
    "def get_inflation_data(country_code, start_year, end_year):\n",
    "    indicator = {\"FP.CPI.TOTL.ZG\": \"Inflation, consumer prices (annual %)\"}\n",
    "    \n",
    "    data_dates = datetime.datetime(start_year, 1, 1), datetime.datetime(end_year, 1, 1)\n",
    "    \n",
    "    inflation_data = wbdata.get_dataframe(indicator, country=country_code, data_date=data_dates)\n",
    "    return inflation_data.reset_index()\n",
    "\n",
    "def main():\n",
    "    # Example DataFrame with \"Country Name\" and \"Country Code\" columns\n",
    "    data = {\n",
    "        \"Country Name\": [\"Aruba\", \"Africa Eastern and Southern\", \"Afghanistan\", \"Africa Western and Central\", \"Angola\", \"Albania\", \"Andorra\", \"Arab World\", \"United Arab Emirates\", \"Argentina\", \"Armenia\"],\n",
    "        \"Country Code\": [\"ABW\", \"AFE\", \"AFG\", \"AFW\", \"AGO\", \"ALB\", \"AND\", \"ARB\", \"ARE\", \"ARG\", \"ARM\"],\n",
    "        \"1990\": [764804469.3, 2.54062E+11, None, 1.22387E+11, 11229515599, 2028553750, 1028989394, 6.44063E+11, 50701443748, 1.41353E+11, 2256838858],\n",
    "        \"1991\": [872067039.1, 2.76857E+11, None, 1.1804E+11, 12704558517, 1099559028, 1106891025, 4.718E+11, 51552165622, 1.8972E+11, 2069870130],\n",
    "        \"1992\": [958659217.9, 2.46088E+11, None, 1.18893E+11, 15114352005, 652174990.8, 1209992650, 4.73811E+11, 54239171888, 2.28779E+11, 1272835453],\n",
    "        \"1993\": [1083240223, 2.42926E+11, None, 99272180411, 11051939102, 1185315468, 1007090915, 4.82764E+11, 55625170253, 2.36742E+11, 1201312829],\n",
    "        \"1994\": [1245810056, 2.39611E+11, None, 86636400266, 3390500000, 1880950858, 1017544675, 5.07765E+11, 59305093980, 2.5744E+11, 1315158637],\n",
    "    }\n",
    "\n",
    "    countries = pd.DataFrame(data)\n",
    "\n",
    "    # List to store inflation data for all countries\n",
    "    all_inflation_data = []\n",
    "\n",
    "    # Specify the time range\n",
    "    start_year = 1990\n",
    "    end_year = 2022\n",
    "\n",
    "    # Get inflation data for each country\n",
    "    for _, row in countries.iterrows():\n",
    "        country_code = row[\"Country Code\"]\n",
    "        inflation_data = get_inflation_data(country_code, start_year, end_year)\n",
    "        all_inflation_data.append(inflation_data)\n",
    "\n",
    "    # Concatenate all inflation data into a single DataFrame\n",
    "    inflation_data_df = pd.concat(all_inflation_data)\n",
    "\n",
    "    # Merge with the original DataFrame using the correct column names\n",
    "    result_df = pd.merge(countries, inflation_data_df, left_on=[\"Country Code\"], right_on=[\"country\"], how=\"left\")\n",
    "\n",
    "    # Drop unnecessary columns and rename\n",
    "    result_df.drop(columns=[\"country\"], inplace=True)\n",
    "    result_df.rename(columns={\"date\": \"Year\", \"FP.CPI.TOTL.ZG\": \"Inflation\"}, inplace=True)\n",
    "\n",
    "    # Save the data to a CSV file\n",
    "    result_df.to_csv(\"inflation.csv\", index=False)\n",
    "\n",
    "if __name__ == \"__main__\":\n",
    "    main()"
   ]
  },
  {
   "cell_type": "code",
   "execution_count": 39,
   "id": "4a62564e",
   "metadata": {},
   "outputs": [
    {
     "ename": "NameError",
     "evalue": "name 'result_df' is not defined",
     "output_type": "error",
     "traceback": [
      "\u001b[1;31m---------------------------------------------------------------------------\u001b[0m",
      "\u001b[1;31mNameError\u001b[0m                                 Traceback (most recent call last)",
      "\u001b[1;32m~\\AppData\\Local\\Temp\\ipykernel_11012\\3759526569.py\u001b[0m in \u001b[0;36m<module>\u001b[1;34m\u001b[0m\n\u001b[1;32m----> 1\u001b[1;33m \u001b[0mresult_df\u001b[0m\u001b[1;33m,\u001b[0m\u001b[0mhead\u001b[0m\u001b[1;33m(\u001b[0m\u001b[1;33m)\u001b[0m\u001b[1;33m\u001b[0m\u001b[1;33m\u001b[0m\u001b[0m\n\u001b[0m",
      "\u001b[1;31mNameError\u001b[0m: name 'result_df' is not defined"
     ]
    }
   ],
   "source": [
    "result_df,head()"
   ]
  },
  {
   "cell_type": "code",
   "execution_count": 3,
   "id": "b6ad67c2",
   "metadata": {},
   "outputs": [],
   "source": [
    "import wbdata\n",
    "import datetime\n",
    "\n",
    "def get_inflation_data(country_codes, start_year, end_year):\n",
    "    indicators = {\"FP.CPI.TOTL.ZG\": \"Inflation, consumer prices (annual %)\"}\n",
    "    \n",
    "    data_dates = datetime.datetime(start_year, 1, 1), datetime.datetime(end_year, 1, 1)\n",
    "    \n",
    "    inflation_data = wbdata.get_dataframe(indicators, country=country_codes, data_date=data_dates)\n",
    "    return inflation_data\n",
    "\n",
    "# Example: Get inflation data for the United States and Canada from 2010 to 2020\n",
    "country_codes = [\"USA\", \"CAN\"]\n",
    "start_year = 2010\n",
    "end_year = 2020\n",
    "\n",
    "inflation_data = get_inflation_data(country_codes, start_year, end_year)\n"
   ]
  },
  {
   "cell_type": "code",
   "execution_count": null,
   "id": "b258460a",
   "metadata": {},
   "outputs": [],
   "source": []
  },
  {
   "cell_type": "code",
   "execution_count": 4,
   "id": "1db10b5c",
   "metadata": {},
   "outputs": [
    {
     "data": {
      "text/html": [
       "<div>\n",
       "<style scoped>\n",
       "    .dataframe tbody tr th:only-of-type {\n",
       "        vertical-align: middle;\n",
       "    }\n",
       "\n",
       "    .dataframe tbody tr th {\n",
       "        vertical-align: top;\n",
       "    }\n",
       "\n",
       "    .dataframe thead th {\n",
       "        text-align: right;\n",
       "    }\n",
       "</style>\n",
       "<table border=\"1\" class=\"dataframe\">\n",
       "  <thead>\n",
       "    <tr style=\"text-align: right;\">\n",
       "      <th></th>\n",
       "      <th></th>\n",
       "      <th>Inflation, consumer prices (annual %)</th>\n",
       "    </tr>\n",
       "    <tr>\n",
       "      <th>country</th>\n",
       "      <th>date</th>\n",
       "      <th></th>\n",
       "    </tr>\n",
       "  </thead>\n",
       "  <tbody>\n",
       "    <tr>\n",
       "      <th rowspan=\"5\" valign=\"top\">Canada</th>\n",
       "      <th>2020</th>\n",
       "      <td>0.717000</td>\n",
       "    </tr>\n",
       "    <tr>\n",
       "      <th>2019</th>\n",
       "      <td>1.949269</td>\n",
       "    </tr>\n",
       "    <tr>\n",
       "      <th>2018</th>\n",
       "      <td>2.268226</td>\n",
       "    </tr>\n",
       "    <tr>\n",
       "      <th>2017</th>\n",
       "      <td>1.596884</td>\n",
       "    </tr>\n",
       "    <tr>\n",
       "      <th>2016</th>\n",
       "      <td>1.428760</td>\n",
       "    </tr>\n",
       "  </tbody>\n",
       "</table>\n",
       "</div>"
      ],
      "text/plain": [
       "              Inflation, consumer prices (annual %)\n",
       "country date                                       \n",
       "Canada  2020                               0.717000\n",
       "        2019                               1.949269\n",
       "        2018                               2.268226\n",
       "        2017                               1.596884\n",
       "        2016                               1.428760"
      ]
     },
     "execution_count": 4,
     "metadata": {},
     "output_type": "execute_result"
    }
   ],
   "source": [
    "inflation_data.head()"
   ]
  },
  {
   "cell_type": "code",
   "execution_count": 5,
   "id": "eebbaa35",
   "metadata": {},
   "outputs": [],
   "source": [
    "inflation_data.to_csv('inflation_rate.csv')"
   ]
  },
  {
   "cell_type": "markdown",
   "id": "00a49618",
   "metadata": {},
   "source": [
    "### Download GDP Dataset"
   ]
  },
  {
   "cell_type": "code",
   "execution_count": 6,
   "id": "a11b626e",
   "metadata": {},
   "outputs": [],
   "source": [
    "def get_gdp_data(country_codes, start_year, end_year):\n",
    "    indicators = {\"NY.GDP.MKTP.CD\": \"GDP (current US$)\"}\n",
    "    \n",
    "    data_dates = datetime.datetime(start_year, 1, 1), datetime.datetime(end_year, 1, 1)\n",
    "    \n",
    "    gdp_data = wbdata.get_dataframe(indicators, country=country_codes, data_date=data_dates)\n",
    "    return gdp_data\n",
    "\n",
    "# Example: Get GDP data for the United States and Canada from 2010 to 2020\n",
    "country_codes = [\"USA\", \"CAN\"]\n",
    "start_year = 2010\n",
    "end_year = 2020\n",
    "\n",
    "gdp_data = get_gdp_data(country_codes, start_year, end_year)"
   ]
  },
  {
   "cell_type": "code",
   "execution_count": 7,
   "id": "a3d7b435",
   "metadata": {},
   "outputs": [],
   "source": [
    "gdp_data.to_csv('gdp_data.csv')"
   ]
  },
  {
   "cell_type": "code",
   "execution_count": null,
   "id": "b288e852",
   "metadata": {},
   "outputs": [],
   "source": []
  }
 ],
 "metadata": {
  "kernelspec": {
   "display_name": "Python 3 (ipykernel)",
   "language": "python",
   "name": "python3"
  },
  "language_info": {
   "codemirror_mode": {
    "name": "ipython",
    "version": 3
   },
   "file_extension": ".py",
   "mimetype": "text/x-python",
   "name": "python",
   "nbconvert_exporter": "python",
   "pygments_lexer": "ipython3",
   "version": "3.9.13"
  }
 },
 "nbformat": 4,
 "nbformat_minor": 5
}
